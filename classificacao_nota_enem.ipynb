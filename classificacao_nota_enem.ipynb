{
  "nbformat": 4,
  "nbformat_minor": 0,
  "metadata": {
    "colab": {
      "name": "classificacao_nota_enem.ipynb",
      "provenance": [],
      "collapsed_sections": [],
      "authorship_tag": "ABX9TyMMgI3urabR6k/WOjgqL3hr",
      "include_colab_link": true
    },
    "kernelspec": {
      "display_name": "Python 3",
      "name": "python3"
    }
  },
  "cells": [
    {
      "cell_type": "markdown",
      "metadata": {
        "id": "view-in-github",
        "colab_type": "text"
      },
      "source": [
        "<a href=\"https://colab.research.google.com/github/ramonfercruz/dados_enem/blob/main/classificacao_nota_enem.ipynb\" target=\"_parent\"><img src=\"https://colab.research.google.com/assets/colab-badge.svg\" alt=\"Open In Colab\"/></a>"
      ]
    },
    {
      "cell_type": "code",
      "metadata": {
        "id": "9jCf9lbGeTG3"
      },
      "source": [
        "from google.colab import drive\n",
        "import zipfile\n",
        "import pandas as pd\n",
        "import sklearn\n",
        "from sklearn.model_selection import train_test_split"
      ],
      "execution_count": null,
      "outputs": []
    },
    {
      "cell_type": "code",
      "metadata": {
        "colab": {
          "base_uri": "https://localhost:8080/"
        },
        "id": "1U8UHBcbe5xp",
        "outputId": "4c30823c-32a1-4271-942e-52af9d567a5f"
      },
      "source": [
        "drive.mount('/content/drive')"
      ],
      "execution_count": null,
      "outputs": [
        {
          "output_type": "stream",
          "text": [
            "Drive already mounted at /content/drive; to attempt to forcibly remount, call drive.mount(\"/content/drive\", force_remount=True).\n"
          ],
          "name": "stdout"
        }
      ]
    },
    {
      "cell_type": "code",
      "metadata": {
        "id": "VB2NIo0Teq7z"
      },
      "source": [
        "arquivo = '/content/drive/MyDrive/Dados Enem/microdados_enem_2019.zip'"
      ],
      "execution_count": null,
      "outputs": []
    },
    {
      "cell_type": "code",
      "metadata": {
        "id": "mqobnUUceha-"
      },
      "source": [
        "colunas = [ 'NU_INSCRICAO','NU_NOTA_CN', 'NU_NOTA_CH', 'NU_NOTA_LC','NU_NOTA_MT','NU_NOTA_REDACAO', 'NU_IDADE', 'TP_SEXO', 'SG_UF_RESIDENCIA','Q006', 'Q025', 'TP_COR_RACA','IN_TREINEIRO' , 'TP_PRESENCA_MT','TP_ESCOLA', 'TP_ST_CONCLUSAO', 'TP_ANO_CONCLUIU', 'Q001', 'Q002', 'CO_PROVA_MT', 'CO_ESCOLA']"
      ],
      "execution_count": null,
      "outputs": []
    },
    {
      "cell_type": "code",
      "metadata": {
        "id": "ZoQh-Fq4fCjF",
        "colab": {
          "base_uri": "https://localhost:8080/"
        },
        "outputId": "4c487fb9-69a9-4d0b-a287-5fc5f438bf2f"
      },
      "source": [
        "%%time\n",
        "with zipfile.ZipFile(arquivo) as file_zip:\n",
        "  with file_zip.open('DADOS/MICRODADOS_ENEM_2019.csv','r') as file_csv:\n",
        "    df_enem = pd.read_csv(file_csv, sep=';', encoding='latin1',usecols=colunas)"
      ],
      "execution_count": null,
      "outputs": [
        {
          "output_type": "stream",
          "text": [
            "CPU times: user 40.7 s, sys: 1.47 s, total: 42.1 s\n",
            "Wall time: 42.3 s\n"
          ],
          "name": "stdout"
        }
      ]
    },
    {
      "cell_type": "code",
      "metadata": {
        "id": "dynuaT5GpTSV"
      },
      "source": [
        "df_enem.CO_ESCOLA.fillna(-1, inplace=True)"
      ],
      "execution_count": null,
      "outputs": []
    },
    {
      "cell_type": "code",
      "metadata": {
        "id": "MsAjY-CGgw-i"
      },
      "source": [
        "df_enem.dropna(inplace=True)"
      ],
      "execution_count": null,
      "outputs": []
    },
    {
      "cell_type": "code",
      "metadata": {
        "id": "5T0fCtRBc47F"
      },
      "source": [
        "df_enem['nota_media'] = ((df_enem.NU_NOTA_CN * 1 )+ (df_enem.NU_NOTA_CH * 3) + (df_enem.NU_NOTA_MT * 1) + (df_enem.NU_NOTA_REDACAO * 3 ) + (df_enem.NU_NOTA_LC * 2)) / 10"
      ],
      "execution_count": null,
      "outputs": []
    },
    {
      "cell_type": "code",
      "metadata": {
        "id": "zO_kuaAmf9cS"
      },
      "source": [
        "#df_enem = df_enem[(df_enem['TP_PRESENCA_MT'] == 1) & (df_enem['IN_TREINEIRO'] == 0)]"
      ],
      "execution_count": null,
      "outputs": []
    },
    {
      "cell_type": "code",
      "metadata": {
        "colab": {
          "base_uri": "https://localhost:8080/"
        },
        "id": "XWfRr-wEfQAT",
        "outputId": "35acbe52-0e35-423d-e9f8-2cc47a0c4c06"
      },
      "source": [
        "dict(df_enem.NU_NOTA_CH.describe())"
      ],
      "execution_count": null,
      "outputs": [
        {
          "output_type": "execute_result",
          "data": {
            "text/plain": [
              "{'25%': 450.8,\n",
              " '50%': 513.4,\n",
              " '75%': 568.6,\n",
              " 'count': 3702007.0,\n",
              " 'max': 835.1,\n",
              " 'mean': 509.89059256238573,\n",
              " 'min': 0.0,\n",
              " 'std': 80.9788085244191}"
            ]
          },
          "metadata": {
            "tags": []
          },
          "execution_count": 10
        }
      ]
    },
    {
      "cell_type": "code",
      "metadata": {
        "colab": {
          "base_uri": "https://localhost:8080/"
        },
        "id": "cX7WTaIrIRXK",
        "outputId": "48a1a0a7-c905-41fc-cd3c-8912f07cda13"
      },
      "source": [
        "dados_media = dict(df_enem.nota_media.describe())\n",
        "dados_media"
      ],
      "execution_count": null,
      "outputs": [
        {
          "output_type": "execute_result",
          "data": {
            "text/plain": [
              "{'25%': 471.65,\n",
              " '50%': 528.45,\n",
              " '75%': 590.3,\n",
              " 'count': 3702007.0,\n",
              " 'max': 850.0,\n",
              " 'mean': 531.4841565426498,\n",
              " 'min': 0.0,\n",
              " 'std': 92.26783944367344}"
            ]
          },
          "metadata": {
            "tags": []
          },
          "execution_count": 11
        }
      ]
    },
    {
      "cell_type": "code",
      "metadata": {
        "colab": {
          "base_uri": "https://localhost:8080/"
        },
        "id": "7RmShu--Ij2U",
        "outputId": "42bae4da-f89f-4b5e-c3f7-9ed0bb0ccb79"
      },
      "source": [
        "notas_elevadas = dados_media['75%'] + (dados_media['75%'] - dados_media['25%']) * 1.5\n",
        "notas_elevadas"
      ],
      "execution_count": null,
      "outputs": [
        {
          "output_type": "execute_result",
          "data": {
            "text/plain": [
              "768.2749999999999"
            ]
          },
          "metadata": {
            "tags": []
          },
          "execution_count": 12
        }
      ]
    },
    {
      "cell_type": "code",
      "metadata": {
        "id": "MJQqaFSJbRKm"
      },
      "source": [
        "nota_corte_medicina = 794.52"
      ],
      "execution_count": null,
      "outputs": []
    },
    {
      "cell_type": "code",
      "metadata": {
        "colab": {
          "base_uri": "https://localhost:8080/"
        },
        "id": "7qhHiS3sI-kH",
        "outputId": "5b4e8f82-1182-4a29-d393-2ceb4a41fbbd"
      },
      "source": [
        "df_enem[df_enem.nota_media > dados_media['75%']].count()"
      ],
      "execution_count": null,
      "outputs": [
        {
          "output_type": "execute_result",
          "data": {
            "text/plain": [
              "NU_INSCRICAO        925425\n",
              "SG_UF_RESIDENCIA    925425\n",
              "NU_IDADE            925425\n",
              "TP_SEXO             925425\n",
              "TP_COR_RACA         925425\n",
              "TP_ST_CONCLUSAO     925425\n",
              "TP_ANO_CONCLUIU     925425\n",
              "TP_ESCOLA           925425\n",
              "IN_TREINEIRO        925425\n",
              "CO_ESCOLA           925425\n",
              "TP_PRESENCA_MT      925425\n",
              "CO_PROVA_MT         925425\n",
              "NU_NOTA_CN          925425\n",
              "NU_NOTA_CH          925425\n",
              "NU_NOTA_LC          925425\n",
              "NU_NOTA_MT          925425\n",
              "NU_NOTA_REDACAO     925425\n",
              "Q001                925425\n",
              "Q002                925425\n",
              "Q006                925425\n",
              "Q025                925425\n",
              "nota_media          925425\n",
              "dtype: int64"
            ]
          },
          "metadata": {
            "tags": []
          },
          "execution_count": 14
        }
      ]
    },
    {
      "cell_type": "code",
      "metadata": {
        "id": "Z5Z8ydZDLGm5"
      },
      "source": [
        "df_enem['nota_alta'] = df_enem.nota_media > dados_media['75%']\n",
        "df_enem.nota_alta = df_enem.nota_alta.astype(int)\n"
      ],
      "execution_count": null,
      "outputs": []
    },
    {
      "cell_type": "code",
      "metadata": {
        "colab": {
          "base_uri": "https://localhost:8080/"
        },
        "id": "T0YBtzUNhUnh",
        "outputId": "9eb8420e-8d7a-474a-a3ef-17caa993b5cb"
      },
      "source": [
        "print(df_enem.nota_alta.sum())\n",
        "print(df_enem.nota_alta.count())"
      ],
      "execution_count": null,
      "outputs": [
        {
          "output_type": "stream",
          "text": [
            "925425\n",
            "3702007\n"
          ],
          "name": "stdout"
        }
      ]
    },
    {
      "cell_type": "code",
      "metadata": {
        "colab": {
          "base_uri": "https://localhost:8080/"
        },
        "id": "3sms-95vb0m6",
        "outputId": "4b24cad3-f0af-42e3-c2ab-24bac6db334c"
      },
      "source": [
        "(1- df_enem.nota_alta.sum() / df_enem.nota_alta.count()) * 100"
      ],
      "execution_count": null,
      "outputs": [
        {
          "output_type": "execute_result",
          "data": {
            "text/plain": [
              "75.00207319975354"
            ]
          },
          "metadata": {
            "tags": []
          },
          "execution_count": 17
        }
      ]
    },
    {
      "cell_type": "code",
      "metadata": {
        "id": "YGaE7OeoLc1y"
      },
      "source": [
        "fetuares = [ 'NU_IDADE', 'TP_SEXO', 'SG_UF_RESIDENCIA','Q006', 'Q025', 'TP_COR_RACA','TP_ESCOLA', 'TP_ST_CONCLUSAO', 'TP_ANO_CONCLUIU', 'Q001', 'Q002', 'CO_ESCOLA','IN_TREINEIRO', 'nota_alta']\n",
        "df_enem = df_enem[fetuares]"
      ],
      "execution_count": null,
      "outputs": []
    },
    {
      "cell_type": "code",
      "metadata": {
        "id": "ntvQhWeQLlAs"
      },
      "source": [
        ""
      ],
      "execution_count": null,
      "outputs": []
    },
    {
      "cell_type": "code",
      "metadata": {
        "id": "lArM64vSL2Zm"
      },
      "source": [
        "tamanho = len(fetuares)"
      ],
      "execution_count": null,
      "outputs": []
    },
    {
      "cell_type": "code",
      "metadata": {
        "id": "o4J1j5apP-QY"
      },
      "source": [
        ""
      ],
      "execution_count": null,
      "outputs": []
    },
    {
      "cell_type": "code",
      "metadata": {
        "colab": {
          "base_uri": "https://localhost:8080/"
        },
        "id": "ufoopfQePDO6",
        "outputId": "f9242aba-d30f-4fd3-f8e3-f5735bf5a7f0"
      },
      "source": [
        "tamanho"
      ],
      "execution_count": null,
      "outputs": [
        {
          "output_type": "execute_result",
          "data": {
            "text/plain": [
              "14"
            ]
          },
          "metadata": {
            "tags": []
          },
          "execution_count": 20
        }
      ]
    },
    {
      "cell_type": "code",
      "metadata": {
        "id": "LqgHJFWqfgTD",
        "colab": {
          "base_uri": "https://localhost:8080/"
        },
        "outputId": "6383a6ba-f005-442f-a9f2-84c2a1a00bc4"
      },
      "source": [
        "tipos_dados = dict(df_enem.dtypes)\n",
        "print(tipos_dados)"
      ],
      "execution_count": null,
      "outputs": [
        {
          "output_type": "stream",
          "text": [
            "{'NU_IDADE': dtype('int64'), 'TP_SEXO': dtype('O'), 'SG_UF_RESIDENCIA': dtype('O'), 'Q006': dtype('O'), 'Q025': dtype('O'), 'TP_COR_RACA': dtype('int64'), 'TP_ESCOLA': dtype('int64'), 'TP_ST_CONCLUSAO': dtype('int64'), 'TP_ANO_CONCLUIU': dtype('int64'), 'Q001': dtype('O'), 'Q002': dtype('O'), 'CO_ESCOLA': dtype('float64'), 'IN_TREINEIRO': dtype('int64'), 'nota_alta': dtype('int64')}\n"
          ],
          "name": "stdout"
        }
      ]
    },
    {
      "cell_type": "code",
      "metadata": {
        "colab": {
          "base_uri": "https://localhost:8080/"
        },
        "id": "cY_V-ZJPKXh9",
        "outputId": "de24affe-2d89-4cc7-ea3b-8bad1699f1fe"
      },
      "source": [
        "colunas_object = []\n",
        "print(tipos_dados)\n",
        "for i,  valor in  enumerate(tipos_dados.values()):\n",
        "  print(valor)\n",
        "  if valor == 'object':\n",
        "    colunas_object.append(i)\n",
        "\n"
      ],
      "execution_count": null,
      "outputs": [
        {
          "output_type": "stream",
          "text": [
            "{'NU_IDADE': dtype('int64'), 'TP_SEXO': dtype('O'), 'SG_UF_RESIDENCIA': dtype('O'), 'Q006': dtype('O'), 'Q025': dtype('O'), 'TP_COR_RACA': dtype('int64'), 'TP_ESCOLA': dtype('int64'), 'TP_ST_CONCLUSAO': dtype('int64'), 'TP_ANO_CONCLUIU': dtype('int64'), 'Q001': dtype('O'), 'Q002': dtype('O'), 'CO_ESCOLA': dtype('float64'), 'IN_TREINEIRO': dtype('int64'), 'nota_alta': dtype('int64')}\n",
            "int64\n",
            "object\n",
            "object\n",
            "object\n",
            "object\n",
            "int64\n",
            "int64\n",
            "int64\n",
            "int64\n",
            "object\n",
            "object\n",
            "float64\n",
            "int64\n",
            "int64\n"
          ],
          "name": "stdout"
        }
      ]
    },
    {
      "cell_type": "code",
      "metadata": {
        "colab": {
          "base_uri": "https://localhost:8080/"
        },
        "id": "zYZhFDeqNP6s",
        "outputId": "ff8b1d92-f0be-4fb9-ec02-efe3caeb8347"
      },
      "source": [
        "colunas_object"
      ],
      "execution_count": null,
      "outputs": [
        {
          "output_type": "execute_result",
          "data": {
            "text/plain": [
              "[1, 2, 3, 4, 9, 10]"
            ]
          },
          "metadata": {
            "tags": []
          },
          "execution_count": 23
        }
      ]
    },
    {
      "cell_type": "code",
      "metadata": {
        "id": "IkC02i5pXP4r"
      },
      "source": [
        "amostra = df_enem"
      ],
      "execution_count": null,
      "outputs": []
    },
    {
      "cell_type": "code",
      "metadata": {
        "id": "hVICcCsffvrq"
      },
      "source": [
        "previsores = amostra.iloc[:,0 : tamanho - 1].values\n",
        "classe = amostra.iloc[:,tamanho - 1].values\n"
      ],
      "execution_count": null,
      "outputs": []
    },
    {
      "cell_type": "code",
      "metadata": {
        "id": "JLMlLESoTPq7"
      },
      "source": [
        "import numpy as np"
      ],
      "execution_count": null,
      "outputs": []
    },
    {
      "cell_type": "code",
      "metadata": {
        "id": "yjDblR0hTGbO"
      },
      "source": [
        ""
      ],
      "execution_count": null,
      "outputs": []
    },
    {
      "cell_type": "code",
      "metadata": {
        "id": "bGtrbrd-ODkX"
      },
      "source": [
        "from sklearn.preprocessing import LabelEncoder, OneHotEncoder\n",
        "from sklearn.compose import ColumnTransformer\n",
        "\n",
        "column_tranformer = ColumnTransformer([('one_hot_encoder', OneHotEncoder(), colunas_object)],remainder='passthrough')\n",
        "previsores = column_tranformer.fit_transform(previsores).toarray()\n"
      ],
      "execution_count": null,
      "outputs": []
    },
    {
      "cell_type": "code",
      "metadata": {
        "id": "i9jF7T1LnRyj"
      },
      "source": [
        "#from sklearn.preprocessing import StandardScaler\n",
        "#scaler = StandardScaler()\n",
        "#previsores = scaler.fit_transform(previsores)"
      ],
      "execution_count": null,
      "outputs": []
    },
    {
      "cell_type": "code",
      "metadata": {
        "id": "PLMJ795znigB"
      },
      "source": [
        "from sklearn.model_selection import train_test_split\n",
        "previsores_treinamento, previsores_teste, classe_treinamento, classe_teste = train_test_split(previsores, classe, test_size=0.30, random_state=0)"
      ],
      "execution_count": null,
      "outputs": []
    },
    {
      "cell_type": "code",
      "metadata": {
        "id": "lfFPK8rpgJyi",
        "colab": {
          "base_uri": "https://localhost:8080/"
        },
        "outputId": "9108631e-52a2-45c8-c6c5-3b698d0e9d06"
      },
      "source": [
        "%%time\n",
        "from sklearn.ensemble import RandomForestClassifier\n",
        "classificador = RandomForestClassifier(n_estimators=40, criterion='entropy', random_state=0)\n",
        "classificador.fit(previsores_treinamento, classe_treinamento)\n"
      ],
      "execution_count": null,
      "outputs": [
        {
          "output_type": "stream",
          "text": [
            "CPU times: user 6min 8s, sys: 2.03 s, total: 6min 10s\n",
            "Wall time: 6min 11s\n"
          ],
          "name": "stdout"
        }
      ]
    },
    {
      "cell_type": "code",
      "metadata": {
        "id": "J0Pyuk0NVFbv"
      },
      "source": [
        "previsoes = classificador.predict(previsores_teste)"
      ],
      "execution_count": null,
      "outputs": []
    },
    {
      "cell_type": "code",
      "metadata": {
        "id": "gV2fXocutu39"
      },
      "source": [
        "from sklearn.metrics import confusion_matrix, accuracy_score\n",
        "precisao = accuracy_score(classe_teste, previsoes)\n",
        "matriz = confusion_matrix(classe_teste, previsoes)\n"
      ],
      "execution_count": null,
      "outputs": []
    },
    {
      "cell_type": "code",
      "metadata": {
        "id": "jUBIsheXj8g3",
        "colab": {
          "base_uri": "https://localhost:8080/"
        },
        "outputId": "bf2fb5ab-7adb-4256-828a-666e4008c82d"
      },
      "source": [
        "print(precisao)\n",
        "print(matriz)"
      ],
      "execution_count": null,
      "outputs": [
        {
          "output_type": "stream",
          "text": [
            "0.7676469449479247\n",
            "[[734319  98725]\n",
            " [159327 118232]]\n"
          ],
          "name": "stdout"
        }
      ]
    },
    {
      "cell_type": "code",
      "metadata": {
        "id": "4b-9f8Dt_1s1"
      },
      "source": [
        "previsoes = classificador.predict(previsores_treinamento)\n",
        "precisao = accuracy_score(classe_treinamento, previsoes)\n",
        "matriz = confusion_matrix(classe_treinamento, previsoes)"
      ],
      "execution_count": null,
      "outputs": []
    },
    {
      "cell_type": "code",
      "metadata": {
        "colab": {
          "base_uri": "https://localhost:8080/"
        },
        "id": "Scxd-tBDmDoe",
        "outputId": "3eda21a8-20a7-48ea-d372-88b95cd00f17"
      },
      "source": [
        "print(precisao)\n",
        "print(matriz)"
      ],
      "execution_count": null,
      "outputs": [
        {
          "output_type": "stream",
          "text": [
            "0.9168724753068221\n",
            "[[1878900   64638]\n",
            " [ 150779  497087]]\n"
          ],
          "name": "stdout"
        }
      ]
    },
    {
      "cell_type": "code",
      "metadata": {
        "colab": {
          "base_uri": "https://localhost:8080/"
        },
        "id": "r6dN8s87mQSK",
        "outputId": "d8e7ccb0-def1-4604-9ce3-541937883933"
      },
      "source": [
        "matriz[0][1] / (matriz[0][0] + matriz[0][1])"
      ],
      "execution_count": null,
      "outputs": [
        {
          "output_type": "execute_result",
          "data": {
            "text/plain": [
              "0.033257903884565156"
            ]
          },
          "metadata": {
            "tags": []
          },
          "execution_count": 36
        }
      ]
    },
    {
      "cell_type": "code",
      "metadata": {
        "colab": {
          "base_uri": "https://localhost:8080/"
        },
        "id": "B49gnaB3wEbS",
        "outputId": "2c2f5d89-1ea3-433c-d1c3-51449ac04745"
      },
      "source": [
        "matriz[1][0] / (matriz[1][1] + matriz[1][0] )"
      ],
      "execution_count": null,
      "outputs": [
        {
          "output_type": "execute_result",
          "data": {
            "text/plain": [
              "0.2327317686064711"
            ]
          },
          "metadata": {
            "tags": []
          },
          "execution_count": 37
        }
      ]
    },
    {
      "cell_type": "code",
      "metadata": {
        "id": "MhQbObHBwKyq"
      },
      "source": [
        ""
      ],
      "execution_count": null,
      "outputs": []
    }
  ]
}