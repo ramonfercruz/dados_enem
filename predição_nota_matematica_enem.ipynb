{
  "nbformat": 4,
  "nbformat_minor": 0,
  "metadata": {
    "colab": {
      "name": "predição_nota_matematica_enem.ipynb",
      "provenance": [],
      "collapsed_sections": [],
      "authorship_tag": "ABX9TyOS69srmF6lm9DvXNv33yAz",
      "include_colab_link": true
    },
    "kernelspec": {
      "display_name": "Python 3",
      "name": "python3"
    }
  },
  "cells": [
    {
      "cell_type": "markdown",
      "metadata": {
        "id": "view-in-github",
        "colab_type": "text"
      },
      "source": [
        "<a href=\"https://colab.research.google.com/github/ramonfercruz/dados_enem/blob/main/predi%C3%A7%C3%A3o_nota_matematica_enem.ipynb\" target=\"_parent\"><img src=\"https://colab.research.google.com/assets/colab-badge.svg\" alt=\"Open In Colab\"/></a>"
      ]
    },
    {
      "cell_type": "code",
      "metadata": {
        "id": "9jCf9lbGeTG3"
      },
      "source": [
        "from google.colab import drive\n",
        "import zipfile\n",
        "import pandas as pd\n",
        "import sklearn\n",
        "from sklearn.model_selection import train_test_split"
      ],
      "execution_count": null,
      "outputs": []
    },
    {
      "cell_type": "code",
      "metadata": {
        "colab": {
          "base_uri": "https://localhost:8080/"
        },
        "id": "1U8UHBcbe5xp",
        "outputId": "f54f0f41-d6fa-47a2-8681-7ad4ed133f34"
      },
      "source": [
        "drive.mount('/content/drive')"
      ],
      "execution_count": null,
      "outputs": [
        {
          "output_type": "stream",
          "text": [
            "Mounted at /content/drive\n"
          ],
          "name": "stdout"
        }
      ]
    },
    {
      "cell_type": "code",
      "metadata": {
        "id": "VB2NIo0Teq7z"
      },
      "source": [
        "arquivo = '/content/drive/MyDrive/Dados Enem/microdados_enem_2019.zip'"
      ],
      "execution_count": null,
      "outputs": []
    },
    {
      "cell_type": "code",
      "metadata": {
        "id": "mqobnUUceha-"
      },
      "source": [
        "colunas = [ 'NU_INSCRICAO','NU_NOTA_CN', 'NU_NOTA_CH', 'NU_NOTA_LC','NU_NOTA_MT','NU_IDADE', 'TP_SEXO', 'SG_UF_RESIDENCIA','Q006', 'Q025', 'TP_COR_RACA','IN_TREINEIRO' , 'TP_PRESENCA_MT','TP_SEXO','TP_ESCOLA', 'TP_ST_CONCLUSAO', 'TP_ANO_CONCLUIU', 'Q001', 'Q002', 'CO_PROVA_MT']"
      ],
      "execution_count": null,
      "outputs": []
    },
    {
      "cell_type": "code",
      "metadata": {
        "id": "ZoQh-Fq4fCjF"
      },
      "source": [
        "with zipfile.ZipFile(arquivo) as file_zip:\n",
        "  with file_zip.open('DADOS/MICRODADOS_ENEM_2019.csv','r') as file_csv:\n",
        "    df_enem = pd.read_csv(file_csv, sep=';', encoding='latin1',usecols=colunas)"
      ],
      "execution_count": null,
      "outputs": []
    },
    {
      "cell_type": "code",
      "metadata": {
        "id": "zO_kuaAmf9cS"
      },
      "source": [
        "df_enem = df_enem[(df_enem['TP_PRESENCA_MT'] == 1) & (df_enem['IN_TREINEIRO'] == 0)]"
      ],
      "execution_count": null,
      "outputs": []
    },
    {
      "cell_type": "code",
      "metadata": {
        "id": "LqgHJFWqfgTD"
      },
      "source": [
        "tipos_dados = dict(df_enem.dtypes)"
      ],
      "execution_count": null,
      "outputs": []
    },
    {
      "cell_type": "code",
      "metadata": {
        "id": "hVICcCsffvrq"
      },
      "source": [
        "for coluna, tipo in tipos_dados.items():\n",
        "  if tipo == object:\n",
        "    chaves = dict(df_enem[coluna].value_counts().sort_index()).keys()\n",
        "    dict_map = {}\n",
        "    for i, chave in  enumerate(chaves):\n",
        "      dict_map[chave] = i\n",
        "    dict_map[None] = -1\n",
        "    df_enem[coluna] = df_enem[coluna].map(dict_map)\n",
        "    \n"
      ],
      "execution_count": null,
      "outputs": []
    },
    {
      "cell_type": "code",
      "metadata": {
        "id": "i9jF7T1LnRyj"
      },
      "source": [
        "for coluna in list(df_enem.columns):\n",
        "  df_enem[coluna].fillna(0,inplace=True)"
      ],
      "execution_count": null,
      "outputs": []
    },
    {
      "cell_type": "code",
      "metadata": {
        "colab": {
          "base_uri": "https://localhost:8080/"
        },
        "id": "PLMJ795znigB",
        "outputId": "6f9b3eae-5e31-4e84-c19f-c004c4d7ee5a"
      },
      "source": [
        "df_enem.NU_INSCRICAO.count()"
      ],
      "execution_count": null,
      "outputs": [
        {
          "output_type": "execute_result",
          "data": {
            "text/plain": [
              "3179862"
            ]
          },
          "metadata": {
            "tags": []
          },
          "execution_count": 10
        }
      ]
    },
    {
      "cell_type": "code",
      "metadata": {
        "id": "lfFPK8rpgJyi"
      },
      "source": [
        "import numpy as np\n",
        "\n",
        "# Selecionado um registro aleatório entre os valores de 0 a 10:\n",
        "semente = np.random.choice(10, 1)\n",
        "semente\n",
        "indices = np.arange(0,df_enem.NU_INSCRICAO.count(),semente)\n"
      ],
      "execution_count": null,
      "outputs": []
    },
    {
      "cell_type": "code",
      "metadata": {
        "id": "gV2fXocutu39"
      },
      "source": [
        ""
      ],
      "execution_count": null,
      "outputs": []
    },
    {
      "cell_type": "code",
      "metadata": {
        "id": "jUBIsheXj8g3"
      },
      "source": [
        "amostra_2 = df_enem.iloc[list(indices), :]"
      ],
      "execution_count": null,
      "outputs": []
    },
    {
      "cell_type": "code",
      "metadata": {
        "id": "wtl69XHZtv0u"
      },
      "source": [
        "amostra = df_enem.sample(frac=0.05)"
      ],
      "execution_count": null,
      "outputs": []
    },
    {
      "cell_type": "code",
      "metadata": {
        "colab": {
          "base_uri": "https://localhost:8080/"
        },
        "id": "wm-q_bf1kU-f",
        "outputId": "90a82889-73a4-45c5-a35a-09962b014cb6"
      },
      "source": [
        "amostra.shape"
      ],
      "execution_count": null,
      "outputs": [
        {
          "output_type": "execute_result",
          "data": {
            "text/plain": [
              "(158993, 19)"
            ]
          },
          "metadata": {
            "tags": []
          },
          "execution_count": 40
        }
      ]
    },
    {
      "cell_type": "code",
      "metadata": {
        "id": "lzUAaaIYkoRO"
      },
      "source": [
        "x_amostra_treino, x_amostra_teste = train_test_split(amostra)"
      ],
      "execution_count": null,
      "outputs": []
    },
    {
      "cell_type": "code",
      "metadata": {
        "colab": {
          "base_uri": "https://localhost:8080/"
        },
        "id": "VYWgKdhhmMnu",
        "outputId": "168f631e-e741-4af6-e4ed-1b281c4fc2b0"
      },
      "source": [
        "x_amostra_treino.shape"
      ],
      "execution_count": null,
      "outputs": [
        {
          "output_type": "execute_result",
          "data": {
            "text/plain": [
              "(119244, 19)"
            ]
          },
          "metadata": {
            "tags": []
          },
          "execution_count": 42
        }
      ]
    },
    {
      "cell_type": "code",
      "metadata": {
        "colab": {
          "base_uri": "https://localhost:8080/"
        },
        "id": "FfXa3TFNmTH8",
        "outputId": "5d9c4c87-6372-49a3-9ce4-a448f45cb953"
      },
      "source": [
        "x_amostra_teste.shape"
      ],
      "execution_count": null,
      "outputs": [
        {
          "output_type": "execute_result",
          "data": {
            "text/plain": [
              "(39749, 19)"
            ]
          },
          "metadata": {
            "tags": []
          },
          "execution_count": 43
        }
      ]
    },
    {
      "cell_type": "code",
      "metadata": {
        "id": "amrEw3Cumaod"
      },
      "source": [
        "fetuares  = [ 'NU_NOTA_CN', 'NU_NOTA_CH', 'NU_NOTA_LC','NU_IDADE', 'TP_SEXO', 'Q006','TP_ESCOLA','TP_ST_CONCLUSAO']\n",
        "target = ['NU_NOTA_MT']"
      ],
      "execution_count": null,
      "outputs": []
    },
    {
      "cell_type": "code",
      "metadata": {
        "id": "odNYc7knmpgg"
      },
      "source": [
        "x_treino = x_amostra_treino[fetuares]\n",
        "y_treino = x_amostra_treino[target]\n",
        "x_teste = x_amostra_teste[fetuares]\n",
        "y_teste = x_amostra_teste[target]"
      ],
      "execution_count": null,
      "outputs": []
    },
    {
      "cell_type": "code",
      "metadata": {
        "id": "IGivsz6qomi2"
      },
      "source": [
        "from sklearn.preprocessing import StandardScaler\n",
        "sc = StandardScaler()  \n",
        "x_treino = sc.fit_transform(x_treino)  \n",
        "x_teste = sc.transform(x_teste)"
      ],
      "execution_count": null,
      "outputs": []
    },
    {
      "cell_type": "code",
      "metadata": {
        "id": "-Hb1We87pQ4C"
      },
      "source": [
        "from sklearn.ensemble import RandomForestRegressor\n",
        "regressor = RandomForestRegressor(n_estimators= 100)"
      ],
      "execution_count": null,
      "outputs": []
    },
    {
      "cell_type": "code",
      "metadata": {
        "colab": {
          "base_uri": "https://localhost:8080/"
        },
        "id": "qAql3L9vpVXq",
        "outputId": "282432b9-7425-458f-fafe-c41485531367"
      },
      "source": [
        " \n",
        "%%time\n",
        "regressor.fit(x_treino, y_treino.to_numpy().ravel())"
      ],
      "execution_count": null,
      "outputs": [
        {
          "output_type": "stream",
          "text": [
            "CPU times: user 1min 10s, sys: 284 ms, total: 1min 10s\n",
            "Wall time: 1min 11s\n"
          ],
          "name": "stdout"
        },
        {
          "output_type": "execute_result",
          "data": {
            "text/plain": [
              "RandomForestRegressor(bootstrap=True, ccp_alpha=0.0, criterion='mse',\n",
              "                      max_depth=None, max_features='auto', max_leaf_nodes=None,\n",
              "                      max_samples=None, min_impurity_decrease=0.0,\n",
              "                      min_impurity_split=None, min_samples_leaf=1,\n",
              "                      min_samples_split=2, min_weight_fraction_leaf=0.0,\n",
              "                      n_estimators=100, n_jobs=None, oob_score=False,\n",
              "                      random_state=None, verbose=0, warm_start=False)"
            ]
          },
          "metadata": {
            "tags": []
          },
          "execution_count": 48
        }
      ]
    },
    {
      "cell_type": "code",
      "metadata": {
        "id": "Z5d6HRKVpdC9"
      },
      "source": [
        "y_pred_test = regressor.predict(x_teste)\n",
        "y_pred_train = regressor.predict(x_treino)"
      ],
      "execution_count": null,
      "outputs": []
    },
    {
      "cell_type": "code",
      "metadata": {
        "id": "s66gURycp-lv"
      },
      "source": [
        "import numpy as np\n",
        "from sklearn import metrics"
      ],
      "execution_count": null,
      "outputs": []
    },
    {
      "cell_type": "code",
      "metadata": {
        "colab": {
          "base_uri": "https://localhost:8080/"
        },
        "id": "5zJ0Fl3ZpwDq",
        "outputId": "b75cda2a-cac1-4936-a017-e30ecaf5e131"
      },
      "source": [
        "print('MAE:', metrics.mean_absolute_error(y_treino.to_numpy().ravel(), y_pred_train).round(8)  )\n",
        "print('MSE:', metrics.mean_squared_error(y_treino.to_numpy().ravel(), y_pred_train).round(8) )  \n",
        "print('RMSE:', np.sqrt(metrics.mean_squared_error(y_treino.to_numpy().ravel(), y_pred_train)).round(8))"
      ],
      "execution_count": null,
      "outputs": [
        {
          "output_type": "stream",
          "text": [
            "MAE: 21.61236819\n",
            "MSE: 749.96483206\n",
            "RMSE: 27.38548579\n"
          ],
          "name": "stdout"
        }
      ]
    },
    {
      "cell_type": "code",
      "metadata": {
        "colab": {
          "base_uri": "https://localhost:8080/"
        },
        "id": "nijS4jEJqXP0",
        "outputId": "8a37cf3c-4a2a-47c2-cd1c-ad8371d3139b"
      },
      "source": [
        "print('MAE:', metrics.mean_absolute_error(y_teste.to_numpy().ravel(), y_pred_test).round(8))\n",
        "print('MSE:', metrics.mean_squared_error(y_teste.to_numpy().ravel(), y_pred_test).round(8) )  \n",
        "print('RMSE:', np.sqrt(metrics.mean_squared_error(y_teste.to_numpy().ravel(), y_pred_test)).round(8))"
      ],
      "execution_count": null,
      "outputs": [
        {
          "output_type": "stream",
          "text": [
            "MAE: 58.40811968\n",
            "MSE: 5389.58847163\n",
            "RMSE: 73.41381663\n"
          ],
          "name": "stdout"
        }
      ]
    },
    {
      "cell_type": "code",
      "metadata": {
        "id": "iMlRVh19yDU6"
      },
      "source": [
        "import pickle"
      ],
      "execution_count": null,
      "outputs": []
    },
    {
      "cell_type": "code",
      "metadata": {
        "id": "DsksoxZ6yynR"
      },
      "source": [
        "pickle.dump(regressor, open('/content/drive/MyDrive/Dados Enem/modelo_RandomForestRegressor.sav', 'wb'))"
      ],
      "execution_count": null,
      "outputs": []
    },
    {
      "cell_type": "code",
      "metadata": {
        "id": "MnWmiq1RzMLJ",
        "colab": {
          "base_uri": "https://localhost:8080/"
        },
        "outputId": "2d429f8e-2ff9-441a-cc13-9f098c109f7d"
      },
      "source": [
        "x_amostra_treino['p'] = y_pred_train\n",
        "x_amostra_treino['nota_matematica'] = y_treino"
      ],
      "execution_count": null,
      "outputs": [
        {
          "output_type": "stream",
          "text": [
            "/usr/local/lib/python3.6/dist-packages/ipykernel_launcher.py:1: SettingWithCopyWarning: \n",
            "A value is trying to be set on a copy of a slice from a DataFrame.\n",
            "Try using .loc[row_indexer,col_indexer] = value instead\n",
            "\n",
            "See the caveats in the documentation: https://pandas.pydata.org/pandas-docs/stable/user_guide/indexing.html#returning-a-view-versus-a-copy\n",
            "  \"\"\"Entry point for launching an IPython kernel.\n",
            "/usr/local/lib/python3.6/dist-packages/ipykernel_launcher.py:2: SettingWithCopyWarning: \n",
            "A value is trying to be set on a copy of a slice from a DataFrame.\n",
            "Try using .loc[row_indexer,col_indexer] = value instead\n",
            "\n",
            "See the caveats in the documentation: https://pandas.pydata.org/pandas-docs/stable/user_guide/indexing.html#returning-a-view-versus-a-copy\n",
            "  \n"
          ],
          "name": "stderr"
        }
      ]
    },
    {
      "cell_type": "code",
      "metadata": {
        "colab": {
          "base_uri": "https://localhost:8080/",
          "height": 411
        },
        "id": "JkIs-a_4_z3e",
        "outputId": "f4cfc955-2592-4ea5-be43-06be0697bfc0"
      },
      "source": [
        "x_amostra_treino"
      ],
      "execution_count": null,
      "outputs": [
        {
          "output_type": "execute_result",
          "data": {
            "text/html": [
              "<div>\n",
              "<style scoped>\n",
              "    .dataframe tbody tr th:only-of-type {\n",
              "        vertical-align: middle;\n",
              "    }\n",
              "\n",
              "    .dataframe tbody tr th {\n",
              "        vertical-align: top;\n",
              "    }\n",
              "\n",
              "    .dataframe thead th {\n",
              "        text-align: right;\n",
              "    }\n",
              "</style>\n",
              "<table border=\"1\" class=\"dataframe\">\n",
              "  <thead>\n",
              "    <tr style=\"text-align: right;\">\n",
              "      <th></th>\n",
              "      <th>NU_INSCRICAO</th>\n",
              "      <th>SG_UF_RESIDENCIA</th>\n",
              "      <th>NU_IDADE</th>\n",
              "      <th>TP_SEXO</th>\n",
              "      <th>TP_COR_RACA</th>\n",
              "      <th>TP_ST_CONCLUSAO</th>\n",
              "      <th>TP_ANO_CONCLUIU</th>\n",
              "      <th>TP_ESCOLA</th>\n",
              "      <th>IN_TREINEIRO</th>\n",
              "      <th>TP_PRESENCA_MT</th>\n",
              "      <th>CO_PROVA_MT</th>\n",
              "      <th>NU_NOTA_CN</th>\n",
              "      <th>NU_NOTA_CH</th>\n",
              "      <th>NU_NOTA_LC</th>\n",
              "      <th>NU_NOTA_MT</th>\n",
              "      <th>Q001</th>\n",
              "      <th>Q002</th>\n",
              "      <th>Q006</th>\n",
              "      <th>Q025</th>\n",
              "      <th>p</th>\n",
              "      <th>nota_matematica</th>\n",
              "    </tr>\n",
              "  </thead>\n",
              "  <tbody>\n",
              "    <tr>\n",
              "      <th>349040</th>\n",
              "      <td>190001353676</td>\n",
              "      <td>1</td>\n",
              "      <td>17</td>\n",
              "      <td>0</td>\n",
              "      <td>1</td>\n",
              "      <td>2</td>\n",
              "      <td>0</td>\n",
              "      <td>3</td>\n",
              "      <td>0</td>\n",
              "      <td>1</td>\n",
              "      <td>516.0</td>\n",
              "      <td>462.9</td>\n",
              "      <td>392.1</td>\n",
              "      <td>505.3</td>\n",
              "      <td>566.0</td>\n",
              "      <td>3</td>\n",
              "      <td>4</td>\n",
              "      <td>3</td>\n",
              "      <td>1</td>\n",
              "      <td>530.038</td>\n",
              "      <td>566.0</td>\n",
              "    </tr>\n",
              "    <tr>\n",
              "      <th>4654101</th>\n",
              "      <td>190005658846</td>\n",
              "      <td>4</td>\n",
              "      <td>38</td>\n",
              "      <td>1</td>\n",
              "      <td>1</td>\n",
              "      <td>1</td>\n",
              "      <td>13</td>\n",
              "      <td>1</td>\n",
              "      <td>0</td>\n",
              "      <td>1</td>\n",
              "      <td>515.0</td>\n",
              "      <td>606.9</td>\n",
              "      <td>650.6</td>\n",
              "      <td>676.2</td>\n",
              "      <td>683.4</td>\n",
              "      <td>4</td>\n",
              "      <td>6</td>\n",
              "      <td>5</td>\n",
              "      <td>1</td>\n",
              "      <td>688.461</td>\n",
              "      <td>683.4</td>\n",
              "    </tr>\n",
              "    <tr>\n",
              "      <th>935887</th>\n",
              "      <td>190001940535</td>\n",
              "      <td>5</td>\n",
              "      <td>24</td>\n",
              "      <td>1</td>\n",
              "      <td>3</td>\n",
              "      <td>1</td>\n",
              "      <td>4</td>\n",
              "      <td>1</td>\n",
              "      <td>0</td>\n",
              "      <td>1</td>\n",
              "      <td>517.0</td>\n",
              "      <td>595.0</td>\n",
              "      <td>527.1</td>\n",
              "      <td>518.8</td>\n",
              "      <td>568.7</td>\n",
              "      <td>1</td>\n",
              "      <td>1</td>\n",
              "      <td>1</td>\n",
              "      <td>1</td>\n",
              "      <td>556.618</td>\n",
              "      <td>568.7</td>\n",
              "    </tr>\n",
              "    <tr>\n",
              "      <th>3373425</th>\n",
              "      <td>190004378117</td>\n",
              "      <td>25</td>\n",
              "      <td>19</td>\n",
              "      <td>1</td>\n",
              "      <td>1</td>\n",
              "      <td>1</td>\n",
              "      <td>2</td>\n",
              "      <td>1</td>\n",
              "      <td>0</td>\n",
              "      <td>1</td>\n",
              "      <td>518.0</td>\n",
              "      <td>535.5</td>\n",
              "      <td>606.9</td>\n",
              "      <td>552.6</td>\n",
              "      <td>770.4</td>\n",
              "      <td>4</td>\n",
              "      <td>4</td>\n",
              "      <td>5</td>\n",
              "      <td>1</td>\n",
              "      <td>695.107</td>\n",
              "      <td>770.4</td>\n",
              "    </tr>\n",
              "    <tr>\n",
              "      <th>2084366</th>\n",
              "      <td>190003089028</td>\n",
              "      <td>5</td>\n",
              "      <td>17</td>\n",
              "      <td>0</td>\n",
              "      <td>3</td>\n",
              "      <td>2</td>\n",
              "      <td>0</td>\n",
              "      <td>2</td>\n",
              "      <td>0</td>\n",
              "      <td>1</td>\n",
              "      <td>518.0</td>\n",
              "      <td>480.7</td>\n",
              "      <td>445.8</td>\n",
              "      <td>473.4</td>\n",
              "      <td>445.8</td>\n",
              "      <td>7</td>\n",
              "      <td>2</td>\n",
              "      <td>2</td>\n",
              "      <td>1</td>\n",
              "      <td>449.482</td>\n",
              "      <td>445.8</td>\n",
              "    </tr>\n",
              "    <tr>\n",
              "      <th>...</th>\n",
              "      <td>...</td>\n",
              "      <td>...</td>\n",
              "      <td>...</td>\n",
              "      <td>...</td>\n",
              "      <td>...</td>\n",
              "      <td>...</td>\n",
              "      <td>...</td>\n",
              "      <td>...</td>\n",
              "      <td>...</td>\n",
              "      <td>...</td>\n",
              "      <td>...</td>\n",
              "      <td>...</td>\n",
              "      <td>...</td>\n",
              "      <td>...</td>\n",
              "      <td>...</td>\n",
              "      <td>...</td>\n",
              "      <td>...</td>\n",
              "      <td>...</td>\n",
              "      <td>...</td>\n",
              "      <td>...</td>\n",
              "      <td>...</td>\n",
              "    </tr>\n",
              "    <tr>\n",
              "      <th>2566677</th>\n",
              "      <td>190003571345</td>\n",
              "      <td>16</td>\n",
              "      <td>21</td>\n",
              "      <td>1</td>\n",
              "      <td>3</td>\n",
              "      <td>1</td>\n",
              "      <td>3</td>\n",
              "      <td>1</td>\n",
              "      <td>0</td>\n",
              "      <td>1</td>\n",
              "      <td>515.0</td>\n",
              "      <td>484.2</td>\n",
              "      <td>534.1</td>\n",
              "      <td>535.8</td>\n",
              "      <td>573.0</td>\n",
              "      <td>7</td>\n",
              "      <td>1</td>\n",
              "      <td>1</td>\n",
              "      <td>0</td>\n",
              "      <td>557.110</td>\n",
              "      <td>573.0</td>\n",
              "    </tr>\n",
              "    <tr>\n",
              "      <th>3947580</th>\n",
              "      <td>190004952286</td>\n",
              "      <td>9</td>\n",
              "      <td>24</td>\n",
              "      <td>1</td>\n",
              "      <td>2</td>\n",
              "      <td>1</td>\n",
              "      <td>6</td>\n",
              "      <td>1</td>\n",
              "      <td>0</td>\n",
              "      <td>1</td>\n",
              "      <td>515.0</td>\n",
              "      <td>535.1</td>\n",
              "      <td>526.3</td>\n",
              "      <td>417.0</td>\n",
              "      <td>628.0</td>\n",
              "      <td>1</td>\n",
              "      <td>1</td>\n",
              "      <td>2</td>\n",
              "      <td>0</td>\n",
              "      <td>583.175</td>\n",
              "      <td>628.0</td>\n",
              "    </tr>\n",
              "    <tr>\n",
              "      <th>3663433</th>\n",
              "      <td>190004668129</td>\n",
              "      <td>25</td>\n",
              "      <td>53</td>\n",
              "      <td>1</td>\n",
              "      <td>1</td>\n",
              "      <td>2</td>\n",
              "      <td>0</td>\n",
              "      <td>2</td>\n",
              "      <td>0</td>\n",
              "      <td>1</td>\n",
              "      <td>518.0</td>\n",
              "      <td>398.1</td>\n",
              "      <td>361.2</td>\n",
              "      <td>424.5</td>\n",
              "      <td>532.7</td>\n",
              "      <td>2</td>\n",
              "      <td>3</td>\n",
              "      <td>1</td>\n",
              "      <td>1</td>\n",
              "      <td>484.937</td>\n",
              "      <td>532.7</td>\n",
              "    </tr>\n",
              "    <tr>\n",
              "      <th>1672573</th>\n",
              "      <td>190002677230</td>\n",
              "      <td>23</td>\n",
              "      <td>19</td>\n",
              "      <td>1</td>\n",
              "      <td>1</td>\n",
              "      <td>2</td>\n",
              "      <td>0</td>\n",
              "      <td>2</td>\n",
              "      <td>0</td>\n",
              "      <td>1</td>\n",
              "      <td>518.0</td>\n",
              "      <td>489.9</td>\n",
              "      <td>567.5</td>\n",
              "      <td>582.7</td>\n",
              "      <td>670.7</td>\n",
              "      <td>7</td>\n",
              "      <td>4</td>\n",
              "      <td>5</td>\n",
              "      <td>1</td>\n",
              "      <td>607.321</td>\n",
              "      <td>670.7</td>\n",
              "    </tr>\n",
              "    <tr>\n",
              "      <th>1299822</th>\n",
              "      <td>190002304475</td>\n",
              "      <td>4</td>\n",
              "      <td>20</td>\n",
              "      <td>0</td>\n",
              "      <td>3</td>\n",
              "      <td>1</td>\n",
              "      <td>2</td>\n",
              "      <td>1</td>\n",
              "      <td>0</td>\n",
              "      <td>1</td>\n",
              "      <td>515.0</td>\n",
              "      <td>494.0</td>\n",
              "      <td>555.8</td>\n",
              "      <td>534.7</td>\n",
              "      <td>462.4</td>\n",
              "      <td>3</td>\n",
              "      <td>2</td>\n",
              "      <td>2</td>\n",
              "      <td>1</td>\n",
              "      <td>490.658</td>\n",
              "      <td>462.4</td>\n",
              "    </tr>\n",
              "  </tbody>\n",
              "</table>\n",
              "<p>119244 rows × 21 columns</p>\n",
              "</div>"
            ],
            "text/plain": [
              "         NU_INSCRICAO  SG_UF_RESIDENCIA  ...        p  nota_matematica\n",
              "349040   190001353676                 1  ...  530.038            566.0\n",
              "4654101  190005658846                 4  ...  688.461            683.4\n",
              "935887   190001940535                 5  ...  556.618            568.7\n",
              "3373425  190004378117                25  ...  695.107            770.4\n",
              "2084366  190003089028                 5  ...  449.482            445.8\n",
              "...               ...               ...  ...      ...              ...\n",
              "2566677  190003571345                16  ...  557.110            573.0\n",
              "3947580  190004952286                 9  ...  583.175            628.0\n",
              "3663433  190004668129                25  ...  484.937            532.7\n",
              "1672573  190002677230                23  ...  607.321            670.7\n",
              "1299822  190002304475                 4  ...  490.658            462.4\n",
              "\n",
              "[119244 rows x 21 columns]"
            ]
          },
          "metadata": {
            "tags": []
          },
          "execution_count": 62
        }
      ]
    },
    {
      "cell_type": "code",
      "metadata": {
        "id": "4b-9f8Dt_1s1"
      },
      "source": [
        ""
      ],
      "execution_count": null,
      "outputs": []
    }
  ]
}