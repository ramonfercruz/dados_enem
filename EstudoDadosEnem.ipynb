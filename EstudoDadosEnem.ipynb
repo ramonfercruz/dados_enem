{
  "nbformat": 4,
  "nbformat_minor": 0,
  "metadata": {
    "colab": {
      "name": "EstudoDadosEnem.ipynb",
      "provenance": [],
      "authorship_tag": "ABX9TyMn7RomOdLSxgxYSU/RJwAk",
      "include_colab_link": true
    },
    "kernelspec": {
      "name": "python3",
      "display_name": "Python 3"
    }
  },
  "cells": [
    {
      "cell_type": "markdown",
      "metadata": {
        "id": "view-in-github",
        "colab_type": "text"
      },
      "source": [
        "<a href=\"https://colab.research.google.com/github/ramonfercruz/dados_enem/blob/main/EstudoDadosEnem.ipynb\" target=\"_parent\"><img src=\"https://colab.research.google.com/assets/colab-badge.svg\" alt=\"Open In Colab\"/></a>"
      ]
    },
    {
      "cell_type": "code",
      "metadata": {
        "id": "pVwfIulxbYEH"
      },
      "source": [
        "import requests\n",
        "import os\n",
        "import zipfile\n",
        "from google.colab import drive\n",
        "import pandas as pd\n",
        "import plotly\n"
      ],
      "execution_count": 1,
      "outputs": []
    },
    {
      "cell_type": "code",
      "metadata": {
        "id": "Kr2Fq5XYSexj"
      },
      "source": [
        "#pd.options.plotting.backend = 'plotly'"
      ],
      "execution_count": 2,
      "outputs": []
    },
    {
      "cell_type": "code",
      "metadata": {
        "colab": {
          "base_uri": "https://localhost:8080/"
        },
        "id": "4RO31Ch8GPdo",
        "outputId": "068b9587-9a62-4f67-dea4-383617de91c3"
      },
      "source": [
        "drive.mount('/content/drive')"
      ],
      "execution_count": 3,
      "outputs": [
        {
          "output_type": "stream",
          "text": [
            "Drive already mounted at /content/drive; to attempt to forcibly remount, call drive.mount(\"/content/drive\", force_remount=True).\n"
          ],
          "name": "stdout"
        }
      ]
    },
    {
      "cell_type": "code",
      "metadata": {
        "id": "SSV_da3ZxMwY"
      },
      "source": [
        "diretorio = '/content/drive/MyDrive/Dados Enem/'"
      ],
      "execution_count": 4,
      "outputs": []
    },
    {
      "cell_type": "code",
      "metadata": {
        "id": "ezb9INgTV0Sd"
      },
      "source": [
        "url = 'https://download.inep.gov.br/microdados/microdados_enem_2019.zip'\n",
        "\n",
        "nome_arquivo = url.split('/')[-1:][0]\n",
        "arquivo = os.path.join(diretorio, nome_arquivo)"
      ],
      "execution_count": 5,
      "outputs": []
    },
    {
      "cell_type": "code",
      "metadata": {
        "id": "FvWNTjJ2Se02"
      },
      "source": [
        "def download_file(url, arquivo):\n",
        "    with requests.get(url, stream=True, verify=False) as response:\n",
        "        if response.status_code == 200:\n",
        "          response.raise_for_status()\n",
        "          lote = 1\n",
        "          with open(arquivo, 'wb') as f:\n",
        "              for lote, chunk in enumerate(response.iter_content(chunk_size=8192*1000)): \n",
        "                  f.write(chunk)\n",
        "                  if lote % 10 == 0:\n",
        "                    print('processado lote', lote + 1)\n",
        "        else:\n",
        "          print('erro', response.status_code)\n",
        "          raise\n",
        "    return local_filename"
      ],
      "execution_count": 6,
      "outputs": []
    },
    {
      "cell_type": "markdown",
      "metadata": {
        "id": "uhJTB6V-TNTU"
      },
      "source": [
        "Local onde o arquivo está salvo requer conexão https, porém não possui certificado, por isso verify=Fase"
      ]
    },
    {
      "cell_type": "code",
      "metadata": {
        "colab": {
          "base_uri": "https://localhost:8080/"
        },
        "id": "SDYrUm6LxsAH",
        "outputId": "ca335b6e-5efd-492e-ff01-f607c82c54ad"
      },
      "source": [
        "if not os.path.exists(arquivo):\n",
        "    download_file(url, arquivo)\n",
        "    print('Arquivo salvo')\n",
        "else:\n",
        "    print('Arquivo ja existe')\n",
        "\n",
        "  "
      ],
      "execution_count": 7,
      "outputs": [
        {
          "output_type": "stream",
          "text": [
            "Arquivo ja existe\n"
          ],
          "name": "stdout"
        }
      ]
    },
    {
      "cell_type": "code",
      "metadata": {
        "id": "ZKMb4McKbkJA"
      },
      "source": [
        "with zipfile.ZipFile(arquivo) as filezip:\n",
        "    lista = filezip.namelist()"
      ],
      "execution_count": 8,
      "outputs": []
    },
    {
      "cell_type": "code",
      "metadata": {
        "colab": {
          "base_uri": "https://localhost:8080/"
        },
        "id": "nLifF6DDwuC7",
        "outputId": "86677105-8dc7-4fc9-e419-7771da91466e"
      },
      "source": [
        "lista"
      ],
      "execution_count": 9,
      "outputs": [
        {
          "output_type": "execute_result",
          "data": {
            "text/plain": [
              "['LEIA-ME E DOCUMENTOS TÉCNICOS/',\n",
              " 'LEIA-ME E DOCUMENTOS TÉCNICOS/matriz_referencia_enem.pdf',\n",
              " 'LEIA-ME E DOCUMENTOS TÉCNICOS/Leia_Me_Enem_2019.pdf',\n",
              " 'LEIA-ME E DOCUMENTOS TÉCNICOS/manual_de_redacao_do_enem_2019.pdf',\n",
              " 'LEIA-ME E DOCUMENTOS TÉCNICOS/Edital_enem_2019.pdf',\n",
              " 'PROVAS E GABARITOS/',\n",
              " 'PROVAS E GABARITOS/ENEM_2019_P1_CAD_02_DIA_1_AMARELO.pdf',\n",
              " 'PROVAS E GABARITOS/ENEM_2019_P1_CAD_02_DIA_1_AMARELO_AMPLIADA.pdf',\n",
              " 'PROVAS E GABARITOS/ENEM_2019_P1_CAD_02_DIA_1_AMARELO_SUPERAMPLIADA.pdf',\n",
              " 'PROVAS E GABARITOS/ENEM_2019_P1_CAD_03_DIA_1_BRANCO.pdf',\n",
              " 'PROVAS E GABARITOS/ENEM_2019_P1_CAD_04_DIA_1_ROSA.pdf',\n",
              " 'PROVAS E GABARITOS/ENEM_2019_P1_CAD_09_DIA_1_LARANJA_LEDOR.pdf',\n",
              " 'PROVAS E GABARITOS/ENEM_2019_P1_CAD_10_DIA_1_VERDE_LIBRAS.pdf',\n",
              " 'PROVAS E GABARITOS/ENEM_2019_P1_CAD_05_DIA_2_AMARELO.pdf',\n",
              " 'PROVAS E GABARITOS/ENEM_2019_P1_GAB_02_DIA_1_AMARELO.pdf.pdf',\n",
              " 'PROVAS E GABARITOS/ENEM_2019_P1_GAB_02_DIA_1_AMARELO_AMPLIADA.pdf',\n",
              " 'PROVAS E GABARITOS/ENEM_2019_P1_GAB_02_DIA_1_AMARELO_SUPERAMPLIADA.pdf',\n",
              " 'PROVAS E GABARITOS/ENEM_2019_P1_GAB_03_DIA_1_BRANCO.pdf',\n",
              " 'PROVAS E GABARITOS/ENEM_2019_P1_GAB_04_DIA_1_ROSA.pdf',\n",
              " 'PROVAS E GABARITOS/ENEM_2019_P1_GAB_09_DIA_1_LARANJA_LEDOR.pdf',\n",
              " 'PROVAS E GABARITOS/ENEM_2019_P1_GAB_10_DIA_1_VERDE_LIBRAS.pdf',\n",
              " 'PROVAS E GABARITOS/ENEM_2019_P1_GAB_05_DIA_2_AMARELO.pdf',\n",
              " 'PROVAS E GABARITOS/ENEM_2019_P2_GAB_05_DIA_2_AMARELO_SUPERAMPLIADA.pdf',\n",
              " 'PROVAS E GABARITOS/ENEM_2019_P1_CAD_06_DIA_2_CINZA_AMPLIADA.pdf',\n",
              " 'PROVAS E GABARITOS/ENEM_2019_P1_CAD_06_DIA_2_CINZA_SUPERAMPLIADA.pdf',\n",
              " 'PROVAS E GABARITOS/ENEM_2019_P1_CAD_07_DIA_2_AZUL.pdf',\n",
              " 'PROVAS E GABARITOS/ENEM_2019_P1_CAD_08_DIA_2_ROSA.pdf',\n",
              " 'PROVAS E GABARITOS/ENEM_2019_P1_CAD_06_DIA_2_CINZA.pdf',\n",
              " 'PROVAS E GABARITOS/ENEM_2019_P1_CAD_11_DIA_2_LARANJA_LEDOR.pdf',\n",
              " 'PROVAS E GABARITOS/ENEM_2019_P1_CAD_12_DIA_2_VERDE_LIBRAS.pdf',\n",
              " 'PROVAS E GABARITOS/ENEM_2019_P1_GAB_01_DIA_1_AZUL.pdf',\n",
              " 'PROVAS E GABARITOS/ENEM_2019_P1_GAB_06_DIA_2_CINZA.pdf',\n",
              " 'PROVAS E GABARITOS/ENEM_2019_P1_GAB_06_DIA_2_CINZA_AMPLIADA.pdf',\n",
              " 'PROVAS E GABARITOS/ENEM_2019_P1_GAB_06_DIA_2_CINZA_SUPERAMPLIADA.pdf',\n",
              " 'PROVAS E GABARITOS/ENEM_2019_P1_GAB_07_DIA_2_AZUL.pdf',\n",
              " 'PROVAS E GABARITOS/ENEM_2019_P1_GAB_08_DIA_2_ROSA.pdf',\n",
              " 'PROVAS E GABARITOS/ENEM_2019_P1_GAB_11_DIA_2_LARANJA_LEDOR.pdf',\n",
              " 'PROVAS E GABARITOS/ENEM_2019_P1_GAB_12_DIA_2_VERDE_LIBRAS.pdf',\n",
              " 'PROVAS E GABARITOS/ENEM_2019_P2_CAD_01_DIA_1_AZUL.pdf',\n",
              " 'PROVAS E GABARITOS/ENEM_2019_P2_GAB_01_DIA_1_AZUL_AMPLIADA.pdf',\n",
              " 'PROVAS E GABARITOS/ENEM_2019_P2_CAD_01_DIA_1_AZUL_AMPLIADA.pdf',\n",
              " 'PROVAS E GABARITOS/ENEM_2019_P2_CAD_01_DIA_1_AZUL_SUPERAMPLIADA.pdf',\n",
              " 'PROVAS E GABARITOS/ENEM_2019_P2_CAD_02_DIA_1_AMARELO.pdf',\n",
              " 'PROVAS E GABARITOS/ENEM_2019_P2_CAD_03_DIA_1_BRANCO.pdf',\n",
              " 'PROVAS E GABARITOS/ENEM_2019_P2_CAD_04_DIA_1_ROSA.pdf',\n",
              " 'PROVAS E GABARITOS/ENEM_2019_P2_CAD_09_DIA_1_LARANJA_LEDOR.pdf',\n",
              " 'PROVAS E GABARITOS/ENEM_2019_P2_CAD_05_DIA_2_AMARELO.pdf',\n",
              " 'PROVAS E GABARITOS/ENEM_2019_P2_GAB_06_DIA_2_CINZA.pdf',\n",
              " 'PROVAS E GABARITOS/ENEM_2019_P2_GAB_02_DIA_1_AMARELO.pdf',\n",
              " 'PROVAS E GABARITOS/ENEM_2019_P2_GAB_03_DIA_1_BRANCO.pdf',\n",
              " 'PROVAS E GABARITOS/ENEM_2019_P2_GAB_04_DIA_1_ROSA.pdf',\n",
              " 'PROVAS E GABARITOS/ENEM_2019_P2_GAB_09_DIA_1_LARANJA_LEDOR.pdf',\n",
              " 'PROVAS E GABARITOS/ENEM_2019_P2_GAB_05_DIA_2_AMARELO.pdf',\n",
              " 'PROVAS E GABARITOS/ENEM_2019_P2_CAD_05_DIA_2_AMARELO_AMPLIADA.pdf',\n",
              " 'PROVAS E GABARITOS/ENEM_2019_P2_CAD_05_DIA_2_AMARELO_SUPERAMPLIADA.pdf',\n",
              " 'PROVAS E GABARITOS/ENEM_2019_P2_CAD_06_DIA_2_CINZA.pdf',\n",
              " 'PROVAS E GABARITOS/ENEM_2019_P2_CAD_07_DIA_2_AZUL.pdf',\n",
              " 'PROVAS E GABARITOS/ENEM_2019_P2_CAD_08_DIA_2_ROSA.pdf',\n",
              " 'PROVAS E GABARITOS/ENEM_2019_P2_CAD_11_DIA_2_LARANJA_LEDOR.pdf',\n",
              " 'PROVAS E GABARITOS/ENEM_2019_P2_GAB_01_DIA_1_AZUL.pdf',\n",
              " 'PROVAS E GABARITOS/ENEM_2019_P2_GAB_05_DIA_2_AMARELO_AMPLIADA.pdf',\n",
              " 'PROVAS E GABARITOS/ENEM_2019_P1_CAD_01_DIA_1_AZUL.pdf',\n",
              " 'PROVAS E GABARITOS/ENEM_2019_P2_GAB_01_DIA_1_AZUL_SUPERAMPLIADA.pdf',\n",
              " 'PROVAS E GABARITOS/ENEM_2019_P2_GAB_07_DIA_2_AZUL.pdf',\n",
              " 'PROVAS E GABARITOS/ENEM_2019_P2_GAB_08_DIA_2_ROSA.pdf',\n",
              " 'PROVAS E GABARITOS/ENEM_2019_P2_GAB_11_DIA_2_LARANJA_LEDOR.pdf',\n",
              " 'DADOS/',\n",
              " 'DADOS/MICRODADOS_ENEM_2019.csv',\n",
              " 'DADOS/ITENS_PROVA_2019.csv',\n",
              " 'DICION╡RIO/',\n",
              " 'DICION╡RIO/Dicionário_Microdados_Enem_2019.ods',\n",
              " 'DICION╡RIO/Dicionário_Microdados_Enem_2019.xlsx',\n",
              " 'INPUTS/',\n",
              " 'INPUTS/INPUT_R_MICRODADOS_ENEM_2019.R',\n",
              " 'INPUTS/INPUT_SAS_ITENS_PROVA_2019.sas',\n",
              " 'INPUTS/INPUT_SAS_MICRODADOS_ENEM_2019.sas',\n",
              " 'INPUTS/INPUT_SPSS_ITENS_PROVA_2019.sps',\n",
              " 'INPUTS/INPUT_SPSS_MICRODADOS_ENEM_2019.sps',\n",
              " 'INPUTS/INPUT_R_ITENS_PROVA_2019.R']"
            ]
          },
          "metadata": {
            "tags": []
          },
          "execution_count": 9
        }
      ]
    },
    {
      "cell_type": "code",
      "metadata": {
        "id": "8A5Ip0xuw3Js"
      },
      "source": [
        "\n",
        "with zipfile.ZipFile(arquivo) as file_zip:\n",
        "  with file_zip.open('DADOS/MICRODADOS_ENEM_2019.csv','r') as file_csv:\n",
        "    df_enem = pd.read_csv(file_csv, sep=';',nrows=0, encoding='latin1')\n"
      ],
      "execution_count": 10,
      "outputs": []
    },
    {
      "cell_type": "code",
      "metadata": {
        "colab": {
          "base_uri": "https://localhost:8080/"
        },
        "id": "zQM0KugHwC0E",
        "outputId": "6619c925-4303-4d6f-cb9b-d5dacb589df6"
      },
      "source": [
        "df_enem.columns.values"
      ],
      "execution_count": 11,
      "outputs": [
        {
          "output_type": "execute_result",
          "data": {
            "text/plain": [
              "array(['NU_INSCRICAO', 'NU_ANO', 'CO_MUNICIPIO_RESIDENCIA',\n",
              "       'NO_MUNICIPIO_RESIDENCIA', 'CO_UF_RESIDENCIA', 'SG_UF_RESIDENCIA',\n",
              "       'NU_IDADE', 'TP_SEXO', 'TP_ESTADO_CIVIL', 'TP_COR_RACA',\n",
              "       'TP_NACIONALIDADE', 'CO_MUNICIPIO_NASCIMENTO',\n",
              "       'NO_MUNICIPIO_NASCIMENTO', 'CO_UF_NASCIMENTO', 'SG_UF_NASCIMENTO',\n",
              "       'TP_ST_CONCLUSAO', 'TP_ANO_CONCLUIU', 'TP_ESCOLA', 'TP_ENSINO',\n",
              "       'IN_TREINEIRO', 'CO_ESCOLA', 'CO_MUNICIPIO_ESC',\n",
              "       'NO_MUNICIPIO_ESC', 'CO_UF_ESC', 'SG_UF_ESC',\n",
              "       'TP_DEPENDENCIA_ADM_ESC', 'TP_LOCALIZACAO_ESC', 'TP_SIT_FUNC_ESC',\n",
              "       'IN_BAIXA_VISAO', 'IN_CEGUEIRA', 'IN_SURDEZ',\n",
              "       'IN_DEFICIENCIA_AUDITIVA', 'IN_SURDO_CEGUEIRA',\n",
              "       'IN_DEFICIENCIA_FISICA', 'IN_DEFICIENCIA_MENTAL',\n",
              "       'IN_DEFICIT_ATENCAO', 'IN_DISLEXIA', 'IN_DISCALCULIA',\n",
              "       'IN_AUTISMO', 'IN_VISAO_MONOCULAR', 'IN_OUTRA_DEF', 'IN_GESTANTE',\n",
              "       'IN_LACTANTE', 'IN_IDOSO', 'IN_ESTUDA_CLASSE_HOSPITALAR',\n",
              "       'IN_SEM_RECURSO', 'IN_BRAILLE', 'IN_AMPLIADA_24', 'IN_AMPLIADA_18',\n",
              "       'IN_LEDOR', 'IN_ACESSO', 'IN_TRANSCRICAO', 'IN_LIBRAS',\n",
              "       'IN_TEMPO_ADICIONAL', 'IN_LEITURA_LABIAL', 'IN_MESA_CADEIRA_RODAS',\n",
              "       'IN_MESA_CADEIRA_SEPARADA', 'IN_APOIO_PERNA', 'IN_GUIA_INTERPRETE',\n",
              "       'IN_COMPUTADOR', 'IN_CADEIRA_ESPECIAL', 'IN_CADEIRA_CANHOTO',\n",
              "       'IN_CADEIRA_ACOLCHOADA', 'IN_PROVA_DEITADO', 'IN_MOBILIARIO_OBESO',\n",
              "       'IN_LAMINA_OVERLAY', 'IN_PROTETOR_AURICULAR', 'IN_MEDIDOR_GLICOSE',\n",
              "       'IN_MAQUINA_BRAILE', 'IN_SOROBAN', 'IN_MARCA_PASSO', 'IN_SONDA',\n",
              "       'IN_MEDICAMENTOS', 'IN_SALA_INDIVIDUAL', 'IN_SALA_ESPECIAL',\n",
              "       'IN_SALA_ACOMPANHANTE', 'IN_MOBILIARIO_ESPECIFICO',\n",
              "       'IN_MATERIAL_ESPECIFICO', 'IN_NOME_SOCIAL', 'CO_MUNICIPIO_PROVA',\n",
              "       'NO_MUNICIPIO_PROVA', 'CO_UF_PROVA', 'SG_UF_PROVA',\n",
              "       'TP_PRESENCA_CN', 'TP_PRESENCA_CH', 'TP_PRESENCA_LC',\n",
              "       'TP_PRESENCA_MT', 'CO_PROVA_CN', 'CO_PROVA_CH', 'CO_PROVA_LC',\n",
              "       'CO_PROVA_MT', 'NU_NOTA_CN', 'NU_NOTA_CH', 'NU_NOTA_LC',\n",
              "       'NU_NOTA_MT', 'TX_RESPOSTAS_CN', 'TX_RESPOSTAS_CH',\n",
              "       'TX_RESPOSTAS_LC', 'TX_RESPOSTAS_MT', 'TP_LINGUA',\n",
              "       'TX_GABARITO_CN', 'TX_GABARITO_CH', 'TX_GABARITO_LC',\n",
              "       'TX_GABARITO_MT', 'TP_STATUS_REDACAO', 'NU_NOTA_COMP1',\n",
              "       'NU_NOTA_COMP2', 'NU_NOTA_COMP3', 'NU_NOTA_COMP4', 'NU_NOTA_COMP5',\n",
              "       'NU_NOTA_REDACAO', 'Q001', 'Q002', 'Q003', 'Q004', 'Q005', 'Q006',\n",
              "       'Q007', 'Q008', 'Q009', 'Q010', 'Q011', 'Q012', 'Q013', 'Q014',\n",
              "       'Q015', 'Q016', 'Q017', 'Q018', 'Q019', 'Q020', 'Q021', 'Q022',\n",
              "       'Q023', 'Q024', 'Q025'], dtype=object)"
            ]
          },
          "metadata": {
            "tags": []
          },
          "execution_count": 11
        }
      ]
    },
    {
      "cell_type": "code",
      "metadata": {
        "id": "KjaGsBUAb7Gf"
      },
      "source": [
        "colunas = ['NU_INSCRICAO', 'NU_NOTA_CN', 'NU_NOTA_CH', 'NU_NOTA_LC','NU_NOTA_MT','NU_IDADE', 'TP_SEXO', 'SG_UF_NASCIMENTO','Q006', 'Q025', 'TP_COR_RACA','IN_TREINEIRO' , 'TP_PRESENCA_MT','TP_SEXO']"
      ],
      "execution_count": 12,
      "outputs": []
    },
    {
      "cell_type": "code",
      "metadata": {
        "id": "FpKKEryjcUXg"
      },
      "source": [
        "with zipfile.ZipFile(arquivo) as file_zip:\n",
        "  with file_zip.open('DADOS/MICRODADOS_ENEM_2019.csv','r') as file_csv:\n",
        "    df_enem = pd.read_csv(file_csv, sep=';', encoding='latin1',usecols=colunas)"
      ],
      "execution_count": 13,
      "outputs": []
    },
    {
      "cell_type": "code",
      "metadata": {
        "id": "F6aKVhJKjwE3"
      },
      "source": [
        "df_enem = df_enem[(df_enem['TP_PRESENCA_MT'] == 1) & (df_enem['IN_TREINEIRO'] == 0)]"
      ],
      "execution_count": 14,
      "outputs": []
    },
    {
      "cell_type": "code",
      "metadata": {
        "colab": {
          "base_uri": "https://localhost:8080/"
        },
        "id": "0ou5YBa7OtRW",
        "outputId": "43c98ed8-de84-40d1-84ca-6788ad75c712"
      },
      "source": [
        "df_enem.NU_NOTA_MT.describe()"
      ],
      "execution_count": 15,
      "outputs": [
        {
          "output_type": "execute_result",
          "data": {
            "text/plain": [
              "count    3.179862e+06\n",
              "mean     5.206347e+02\n",
              "std      1.092789e+02\n",
              "min      0.000000e+00\n",
              "25%      4.330000e+02\n",
              "50%      4.973000e+02\n",
              "75%      5.939000e+02\n",
              "max      9.855000e+02\n",
              "Name: NU_NOTA_MT, dtype: float64"
            ]
          },
          "metadata": {
            "tags": []
          },
          "execution_count": 15
        }
      ]
    },
    {
      "cell_type": "code",
      "metadata": {
        "colab": {
          "base_uri": "https://localhost:8080/"
        },
        "id": "V-u1VspTOwL-",
        "outputId": "a4909ae9-3c83-4ce7-f550-e3d36bab4737"
      },
      "source": [
        "dados_matematica = dict(df_enem.NU_NOTA_MT.describe())\n",
        "dados_matematica"
      ],
      "execution_count": 16,
      "outputs": [
        {
          "output_type": "execute_result",
          "data": {
            "text/plain": [
              "{'25%': 433.0,\n",
              " '50%': 497.3,\n",
              " '75%': 593.9,\n",
              " 'count': 3179862.0,\n",
              " 'max': 985.5,\n",
              " 'mean': 520.6347082671743,\n",
              " 'min': 0.0,\n",
              " 'std': 109.27886385841352}"
            ]
          },
          "metadata": {
            "tags": []
          },
          "execution_count": 16
        }
      ]
    },
    {
      "cell_type": "code",
      "metadata": {
        "colab": {
          "base_uri": "https://localhost:8080/",
          "height": 337
        },
        "id": "sG-aeX7dLyHd",
        "outputId": "e98e5f63-4d03-45a6-ba4d-7f2d2a5a0aea"
      },
      "source": [
        "df_enem.NU_NOTA_MT.plot(kind='hist',figsize=(10, 5), bins=50)"
      ],
      "execution_count": 17,
      "outputs": [
        {
          "output_type": "execute_result",
          "data": {
            "text/plain": [
              "<matplotlib.axes._subplots.AxesSubplot at 0x7ffa5815a080>"
            ]
          },
          "metadata": {
            "tags": []
          },
          "execution_count": 17
        },
        {
          "output_type": "display_data",
          "data": {
            "image/png": "[encoded data removed]",
            "text/plain": [
              "<Figure size 720x360 with 1 Axes>"
            ]
          },
          "metadata": {
            "tags": [],
            "needs_background": "light"
          }
        }
      ]
    },
    {
      "cell_type": "code",
      "metadata": {
        "colab": {
          "base_uri": "https://localhost:8080/",
          "height": 338
        },
        "id": "oRi3D9GSWiAR",
        "outputId": "4b349000-8bbb-4ca5-b4ad-249b952b89ca"
      },
      "source": [
        "df_enem.NU_NOTA_MT.plot(kind='box', figsize=(10, 5))"
      ],
      "execution_count": 18,
      "outputs": [
        {
          "output_type": "execute_result",
          "data": {
            "text/plain": [
              "<matplotlib.axes._subplots.AxesSubplot at 0x7ffa5824ef60>"
            ]
          },
          "metadata": {
            "tags": []
          },
          "execution_count": 18
        },
        {
          "output_type": "display_data",
          "data": {
            "image/png": "[encoded data removed]",
            "text/plain": [
              "<Figure size 720x360 with 1 Axes>"
            ]
          },
          "metadata": {
            "tags": [],
            "needs_background": "light"
          }
        }
      ]
    },
    {
      "cell_type": "code",
      "metadata": {
        "colab": {
          "base_uri": "https://localhost:8080/"
        },
        "id": "qllNvCxQL9Yr",
        "outputId": "572a45af-af9f-42ea-8103-6cd1466f708a"
      },
      "source": [
        "dados_idade= dict(df_enem.NU_IDADE.describe())\n",
        "dados_idade"
      ],
      "execution_count": 19,
      "outputs": [
        {
          "output_type": "execute_result",
          "data": {
            "text/plain": [
              "{'25%': 18.0,\n",
              " '50%': 19.0,\n",
              " '75%': 23.0,\n",
              " 'count': 3179862.0,\n",
              " 'max': 92.0,\n",
              " 'mean': 21.961335114542706,\n",
              " 'min': 2.0,\n",
              " 'std': 7.188408247688305}"
            ]
          },
          "metadata": {
            "tags": []
          },
          "execution_count": 19
        }
      ]
    },
    {
      "cell_type": "code",
      "metadata": {
        "colab": {
          "base_uri": "https://localhost:8080/",
          "height": 338
        },
        "id": "trf9QGguNgFQ",
        "outputId": "1179ead7-7f99-4c9b-9039-2032c7a576ee"
      },
      "source": [
        "df_enem.NU_IDADE.plot(kind='box', figsize=(10, 5))"
      ],
      "execution_count": 20,
      "outputs": [
        {
          "output_type": "execute_result",
          "data": {
            "text/plain": [
              "<matplotlib.axes._subplots.AxesSubplot at 0x7ffa583525c0>"
            ]
          },
          "metadata": {
            "tags": []
          },
          "execution_count": 20
        },
        {
          "output_type": "display_data",
          "data": {
            "image/png": "[encoded data removed]",
            "text/plain": [
              "<Figure size 720x360 with 1 Axes>"
            ]
          },
          "metadata": {
            "tags": [],
            "needs_background": "light"
          }
        }
      ]
    },
    {
      "cell_type": "code",
      "metadata": {
        "colab": {
          "base_uri": "https://localhost:8080/",
          "height": 348
        },
        "id": "pDWfVG9pRiCv",
        "outputId": "5dded800-5a5c-4d94-edfa-6858063d47ba"
      },
      "source": [
        "df_enem.NU_IDADE.plot(kind='hist',figsize=(10, 5), bins=50)"
      ],
      "execution_count": 21,
      "outputs": [
        {
          "output_type": "execute_result",
          "data": {
            "text/plain": [
              "<matplotlib.axes._subplots.AxesSubplot at 0x7ffa5698add8>"
            ]
          },
          "metadata": {
            "tags": []
          },
          "execution_count": 21
        },
        {
          "output_type": "display_data",
          "data": {
            "image/png": "[encoded data removed]",
            "text/plain": [
              "<Figure size 720x360 with 1 Axes>"
            ]
          },
          "metadata": {
            "tags": [],
            "needs_background": "light"
          }
        }
      ]
    },
    {
      "cell_type": "code",
      "metadata": {
        "id": "2eZyMftPRwOG"
      },
      "source": [
        "RENDA = ['A', 'B', 'C', 'D', 'E', 'F', 'G', 'H', 'I', 'J', 'K', 'L', 'M', 'N', 'O', 'P', 'Q']"
      ],
      "execution_count": 22,
      "outputs": []
    },
    {
      "cell_type": "code",
      "metadata": {
        "id": "F6XCS8stdwQ0"
      },
      "source": [
        "dict_renda = {}\n",
        "for i, item in enumerate(RENDA):\n",
        "  dict_renda[item] = i + 1\n"
      ],
      "execution_count": 23,
      "outputs": []
    },
    {
      "cell_type": "code",
      "metadata": {
        "id": "6SKY3_AkjN5D"
      },
      "source": [
        "df_enem.Q006 = df_enem.Q006.map(dict_renda)"
      ],
      "execution_count": 24,
      "outputs": []
    },
    {
      "cell_type": "code",
      "metadata": {
        "id": "boKbm7sYeukr"
      },
      "source": [
        "df_enem.rename(columns={'NU_NOTA_MT': 'Nota Matematica', 'Q006': 'Renda', 'Q025': 'Internet'}, inplace=True)"
      ],
      "execution_count": 25,
      "outputs": []
    },
    {
      "cell_type": "code",
      "metadata": {
        "colab": {
          "base_uri": "https://localhost:8080/",
          "height": 367
        },
        "id": "lmK8E_t_fBhr",
        "outputId": "6393bc52-9d14-4a7d-8a99-4f12135b0fb6"
      },
      "source": [
        "df_enem[['Nota Matematica', 'Renda']].groupby('Renda', as_index=False).median().plot(kind='scatter', x='Renda', y='Nota Matematica', title='Relação Renda e mediana nota', figsize=(10,5))"
      ],
      "execution_count": 26,
      "outputs": [
        {
          "output_type": "execute_result",
          "data": {
            "text/plain": [
              "<matplotlib.axes._subplots.AxesSubplot at 0x7ffa56878828>"
            ]
          },
          "metadata": {
            "tags": []
          },
          "execution_count": 26
        },
        {
          "output_type": "display_data",
          "data": {
            "image/png": "[encoded data removed]",
            "text/plain": [
              "<Figure size 720x360 with 1 Axes>"
            ]
          },
          "metadata": {
            "tags": [],
            "needs_background": "light"
          }
        }
      ]
    },
    {
      "cell_type": "code",
      "metadata": {
        "colab": {
          "base_uri": "https://localhost:8080/",
          "height": 293
        },
        "id": "0oX59OqMfkmL",
        "outputId": "d2bc816b-3e18-43f3-f365-512c5d15879c"
      },
      "source": [
        "df_enem.Renda.plot.hist(bins=10)"
      ],
      "execution_count": 27,
      "outputs": [
        {
          "output_type": "execute_result",
          "data": {
            "text/plain": [
              "<matplotlib.axes._subplots.AxesSubplot at 0x7ffa567ef160>"
            ]
          },
          "metadata": {
            "tags": []
          },
          "execution_count": 27
        },
        {
          "output_type": "display_data",
          "data": {
            "image/png": "[encoded data removed]",
            "text/plain": [
              "<Figure size 432x288 with 1 Axes>"
            ]
          },
          "metadata": {
            "tags": [],
            "needs_background": "light"
          }
        }
      ]
    },
    {
      "cell_type": "code",
      "metadata": {
        "colab": {
          "base_uri": "https://localhost:8080/"
        },
        "id": "nwAf6npkkRY-",
        "outputId": "1c0ca7f0-7c62-4774-8985-4504820c9e9f"
      },
      "source": [
        "df_enem.Renda.value_counts()"
      ],
      "execution_count": 28,
      "outputs": [
        {
          "output_type": "execute_result",
          "data": {
            "text/plain": [
              "3     820891\n",
              "2     796314\n",
              "4     313742\n",
              "5     304181\n",
              "7     196732\n",
              "6     142799\n",
              "1     140106\n",
              "8     120319\n",
              "9      91555\n",
              "10     49640\n",
              "11     36143\n",
              "14     35103\n",
              "17     28610\n",
              "15     28426\n",
              "12     26455\n",
              "13     25556\n",
              "16     23290\n",
              "Name: Renda, dtype: int64"
            ]
          },
          "metadata": {
            "tags": []
          },
          "execution_count": 28
        }
      ]
    },
    {
      "cell_type": "code",
      "metadata": {
        "id": "sgapaQhKmSK0"
      },
      "source": [
        "dict_internet = {'A': 'Não',\n",
        "                 'B': 'Sim'}"
      ],
      "execution_count": 29,
      "outputs": []
    },
    {
      "cell_type": "code",
      "metadata": {
        "id": "Jr0Qdh57kcUc"
      },
      "source": [
        "df_enem.Internet = df_enem.Internet.map(dict_internet)"
      ],
      "execution_count": 30,
      "outputs": []
    },
    {
      "cell_type": "code",
      "metadata": {
        "colab": {
          "base_uri": "https://localhost:8080/",
          "height": 376
        },
        "id": "PZQTCoWFmgPK",
        "outputId": "b88accd1-6fc1-44c1-dda4-6d9589db6d50"
      },
      "source": [
        "df_enem[['Nota Matematica', 'Internet']].groupby('Internet', as_index=False).median().plot(kind='bar', x='Internet', y='Nota Matematica', title='Relação Internet x nota', figsize=(10,5))"
      ],
      "execution_count": 31,
      "outputs": [
        {
          "output_type": "execute_result",
          "data": {
            "text/plain": [
              "<matplotlib.axes._subplots.AxesSubplot at 0x7ffa567737b8>"
            ]
          },
          "metadata": {
            "tags": []
          },
          "execution_count": 31
        },
        {
          "output_type": "display_data",
          "data": {
            "image/png": "[encoded data removed]",
            "text/plain": [
              "<Figure size 720x360 with 1 Axes>"
            ]
          },
          "metadata": {
            "tags": [],
            "needs_background": "light"
          }
        }
      ]
    },
    {
      "cell_type": "code",
      "metadata": {
        "id": "6yYxjxAom0iC"
      },
      "source": [
        "TP_COR_RACA = {0 : 'Não declarado', 1 : 'Branca', 2 : 'Preta', 3 : 'Parda', 4 : 'Amarela', 5 : 'Indígena '}"
      ],
      "execution_count": 32,
      "outputs": []
    },
    {
      "cell_type": "code",
      "metadata": {
        "id": "_xrMdynwoXnJ"
      },
      "source": [
        "df_enem.TP_COR_RACA = df_enem.TP_COR_RACA.map(TP_COR_RACA)"
      ],
      "execution_count": 33,
      "outputs": []
    },
    {
      "cell_type": "code",
      "metadata": {
        "colab": {
          "base_uri": "https://localhost:8080/",
          "height": 430
        },
        "id": "1XKAvanBob9h",
        "outputId": "57e3d5ce-7a8b-45b4-a25b-20a4eeec910c"
      },
      "source": [
        "df_enem[['Nota Matematica', 'TP_COR_RACA']].groupby('TP_COR_RACA', as_index=False).median().plot(kind='bar', x='TP_COR_RACA', y='Nota Matematica', title='Relação nota x Raça', figsize=(10,5))"
      ],
      "execution_count": 34,
      "outputs": [
        {
          "output_type": "execute_result",
          "data": {
            "text/plain": [
              "<matplotlib.axes._subplots.AxesSubplot at 0x7ffa566e96a0>"
            ]
          },
          "metadata": {
            "tags": []
          },
          "execution_count": 34
        },
        {
          "output_type": "display_data",
          "data": {
            "image/png": "[encoded data removed]",
            "text/plain": [
              "<Figure size 720x360 with 1 Axes>"
            ]
          },
          "metadata": {
            "tags": [],
            "needs_background": "light"
          }
        }
      ]
    },
    {
      "cell_type": "code",
      "metadata": {
        "colab": {
          "base_uri": "https://localhost:8080/",
          "height": 430
        },
        "id": "ggHIOhD6k50_",
        "outputId": "9e41e0f6-7b4f-4638-c0ec-f8010269efaa"
      },
      "source": [
        "df_enem[['Nota Matematica', 'TP_COR_RACA']].groupby('TP_COR_RACA', as_index=False).mean().plot(kind='bar', x='TP_COR_RACA', y='Nota Matematica', title='Relação nota x Raça', figsize=(10,5))"
      ],
      "execution_count": 35,
      "outputs": [
        {
          "output_type": "execute_result",
          "data": {
            "text/plain": [
              "<matplotlib.axes._subplots.AxesSubplot at 0x7ffa56722d68>"
            ]
          },
          "metadata": {
            "tags": []
          },
          "execution_count": 35
        },
        {
          "output_type": "display_data",
          "data": {
            "image/png": "[encoded data removed]",
            "text/plain": [
              "<Figure size 720x360 with 1 Axes>"
            ]
          },
          "metadata": {
            "tags": [],
            "needs_background": "light"
          }
        }
      ]
    },
    {
      "cell_type": "code",
      "metadata": {
        "colab": {
          "base_uri": "https://localhost:8080/",
          "height": 430
        },
        "id": "7sEftI0SolJ5",
        "outputId": "23d116b9-3cae-478d-82e8-7eca857ca431"
      },
      "source": [
        "df_enem[['Nota Matematica', 'TP_COR_RACA']].groupby('TP_COR_RACA', as_index=False).count().plot(kind='bar', x='TP_COR_RACA', y='Nota Matematica', title='Relação Internet x Raça', figsize=(10,5))"
      ],
      "execution_count": 36,
      "outputs": [
        {
          "output_type": "execute_result",
          "data": {
            "text/plain": [
              "<matplotlib.axes._subplots.AxesSubplot at 0x7ffa56633240>"
            ]
          },
          "metadata": {
            "tags": []
          },
          "execution_count": 36
        },
        {
          "output_type": "display_data",
          "data": {
            "image/png": "[encoded data removed]",
            "text/plain": [
              "<Figure size 720x360 with 1 Axes>"
            ]
          },
          "metadata": {
            "tags": [],
            "needs_background": "light"
          }
        }
      ]
    },
    {
      "cell_type": "code",
      "metadata": {
        "id": "OLKK16gQpMyA",
        "colab": {
          "base_uri": "https://localhost:8080/",
          "height": 366
        },
        "outputId": "609bd205-b156-467c-df61-1135f908f7fc"
      },
      "source": [
        "df_enem[['Nota Matematica', 'TP_SEXO']].groupby('TP_SEXO', as_index=False).median().plot(kind='bar', x='TP_SEXO', y='Nota Matematica', title='Relação Sexo x Sexo', figsize=(10,5))"
      ],
      "execution_count": 46,
      "outputs": [
        {
          "output_type": "execute_result",
          "data": {
            "text/plain": [
              "<matplotlib.axes._subplots.AxesSubplot at 0x7ffa4e594da0>"
            ]
          },
          "metadata": {
            "tags": []
          },
          "execution_count": 46
        },
        {
          "output_type": "display_data",
          "data": {
            "image/png": "[encoded data removed]",
            "text/plain": [
              "<Figure size 720x360 with 1 Axes>"
            ]
          },
          "metadata": {
            "tags": [],
            "needs_background": "light"
          }
        }
      ]
    },
    {
      "cell_type": "code",
      "metadata": {
        "id": "F2AC6_kLsXo1"
      },
      "source": [
        ""
      ],
      "execution_count": null,
      "outputs": []
    }
  ]
}